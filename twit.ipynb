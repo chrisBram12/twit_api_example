{
 "cells": [
  {
   "cell_type": "code",
   "execution_count": null,
   "id": "5ce4c34e-0d99-4cbf-8c4f-7baf6d098d3e",
   "metadata": {},
   "outputs": [
    {
     "name": "stdout",
     "output_type": "stream",
     "text": [
      "Error generating or posting tweet: Request returned an error: 429 {\"title\":\"Too Many Requests\",\"detail\":\"Too Many Requests\",\"type\":\"about:blank\",\"status\":429}\n"
     ]
    }
   ],
   "source": [
    "import os\n",
    "import time\n",
    "from openai import OpenAI\n",
    "from requests_oauthlib import OAuth1Session\n",
    "\n",
    "# Fetch the API keys from environment variables\n",
    "openai_api_key = os.getenv('OPENAI_API_KEY')\n",
    "twitter_consumer_key = os.getenv('TWITTER_CONSUMER_KEY')\n",
    "twitter_consumer_secret = os.getenv('TWITTER_CONSUMER_SECRET')\n",
    "twitter_access_token = os.getenv('TWITTER_ACCESS_TOKEN')\n",
    "twitter_access_token_secret = os.getenv('TWITTER_ACCESS_TOKEN_SECRET')\n",
    "\n",
    "if not openai_api_key:\n",
    "    raise ValueError(\"No OpenAI API key found. Set the OPENAI_API_KEY environment variable.\")\n",
    "if not twitter_consumer_key or not twitter_consumer_secret or not twitter_access_token or not twitter_access_token_secret:\n",
    "    raise ValueError(\"Twitter API keys not found. Set the environment variables for Twitter.\")\n",
    "\n",
    "# Initialize OpenAI client\n",
    "client = OpenAI(api_key=openai_api_key)\n",
    "\n",
    "# Function to generate Bitcoin hype content\n",
    "def generate_bitcoin_hype():\n",
    "    response = client.chat.completions.create(\n",
    "        model=\"gpt-4\",\n",
    "        messages=[\n",
    "            {\"role\": \"system\", \"content\": \"You are a financial enthusiast who loves to hype up Bitcoin.\"},\n",
    "            {\"role\": \"user\", \"content\": \"Create a tweet hyping up Bitcoin in an exciting and positive way. Make sure it fits within 280 characters.\"}\n",
    "        ]\n",
    "    )\n",
    "    return response.choices[0].message.content\n",
    "\n",
    "# Function to post tweets\n",
    "def post_tweet(consumer_key, consumer_secret, access_token, access_token_secret, tweet_content):\n",
    "    url = 'https://api.twitter.com/2/tweets'\n",
    "    oauth = OAuth1Session(\n",
    "        consumer_key,\n",
    "        client_secret=consumer_secret,\n",
    "        resource_owner_key=access_token,\n",
    "        resource_owner_secret=access_token_secret,\n",
    "    )\n",
    "    payload = {\n",
    "        'text': tweet_content\n",
    "    }\n",
    "    response = oauth.post(url, json=payload)\n",
    "    if response.status_code != 201:\n",
    "        raise Exception(f\"Request returned an error: {response.status_code} {response.text}\")\n",
    "    return response.json()\n",
    "\n",
    "# Function to continuously generate and tweet Bitcoin hype content\n",
    "def tweet_bitcoin_hype():\n",
    "    while True:\n",
    "        try:\n",
    "            tweet_content = generate_bitcoin_hype()\n",
    "            post_tweet(twitter_consumer_key, twitter_consumer_secret, twitter_access_token, twitter_access_token_secret, tweet_content)\n",
    "            print(f\"Tweeted: {tweet_content}\")\n",
    "            time.sleep(600)  # Wait for 10 minutes before posting the next tweet\n",
    "        except Exception as e:\n",
    "            print(f\"Error generating or posting tweet: {e}\")\n",
    "            time.sleep(600)  # Wait for 10 minutes before retrying\n",
    "\n",
    "# Start tweeting Bitcoin hype content\n",
    "tweet_bitcoin_hype()\n",
    "\n",
    "# Print final results for verification (optional)\n",
    "print(\"\\n\" + \"=\"*80 + \"\\n\")\n"
   ]
  },
  {
   "cell_type": "code",
   "execution_count": null,
   "id": "7828b307-87dc-4eb3-87f8-3257a1657fa2",
   "metadata": {},
   "outputs": [],
   "source": []
  }
 ],
 "metadata": {
  "kernelspec": {
   "display_name": "Python 3 (ipykernel)",
   "language": "python",
   "name": "python3"
  },
  "language_info": {
   "codemirror_mode": {
    "name": "ipython",
    "version": 3
   },
   "file_extension": ".py",
   "mimetype": "text/x-python",
   "name": "python",
   "nbconvert_exporter": "python",
   "pygments_lexer": "ipython3",
   "version": "3.8.10"
  }
 },
 "nbformat": 4,
 "nbformat_minor": 5
}
